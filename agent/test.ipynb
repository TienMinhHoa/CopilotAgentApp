{
 "cells": [
  {
   "cell_type": "code",
   "execution_count": 1,
   "metadata": {},
   "outputs": [],
   "source": [
    "import requests\n",
    "url = \"https://7715496.fs1.hubspotusercontent-na1.net/hub/7715496/hubfs/B%E1%BA%A3n%20v%E1%BA%BD%20thi%E1%BA%BFt%20k%E1%BA%BF%20n%E1%BB%99i%20th%E1%BA%A5t%20nh%C3%A0%20ph%E1%BB%91/ho-so-thiet-ke-nha-pho%20(2).jpg?quality=low&width=1000&height=666&name=ho-so-thiet-ke-nha-pho%20(2).jpg\"\n",
    "image_bytes = requests.get(url).content"
   ]
  },
  {
   "cell_type": "code",
   "execution_count": 5,
   "metadata": {},
   "outputs": [
    {
     "name": "stdout",
     "output_type": "stream",
     "text": [
      "response: candidates=[Candidate(content=Content(parts=[Part(video_metadata=None, thought=None, code_execution_result=None, executable_code=None, file_data=None, function_call=None, function_response=None, inline_data=None, text='Here is a detailed description of the image:\\n\\nThe image is a black-and-white architectural floor plan contained within a rectangular, dashed border. The title at the top reads \"MẶT BẰNG BỘ TRÍ NỘI THẤT,\" which translates to \"Furniture Layout Plan.\" The plan shows the layout of an apartment or a similar residential unit.\\n\\nOn the right side of the floor plan, there is a table containing the following information:\\n\\n*   \"HO SO\" (File)\\n*   \"HỒ SƠ THIẾT KE THI CÔNG\" (Construction Design File)\\n*   \"CHỦ ĐẦU TƯ\" (Investor): \"KIM THÀNH\"\\n*   \"CÔNG TRÌNH - ĐỊA ĐIỂM\" (Project - Location): \"THE VIEW\"\\n*   \"CĂN HỘ\" (Apartment): \"22.19\"\\n*   \"LƯU Y\" (Note)\\n*   \"TƯ VẤN THIET KE\" (Design Consultant) is followed by a logo labeled \"ON HOME asia.\"\\n*   \"BẢN VỀ\" (Map)\\n*   \"TÊN BẢN VỀ\" (Map name): \"PHÒNG KHÁCH\" (Living room).\\n\\nAdditional details in the table:\\n\\n*   \"THIẾT KẾ\" (Design): \"VÕ THỊ HÀNH HÒA\"\\n*   \"THỂ HIỆN\" (Presenting): \"HỌ QUỐC DƯƠNG\"\\n*   \"KIỂM TRA\" (Check): \"NGUYEN WAN MANH\"\\n*   \"DUYET\" (Approve): \"NGUYEN VAN MANH\"\\n*   \"NGÀY PHÁT HÀNH\" (Release Date): \"8/2020\"\\n\\nThe floor plan itself is meticulously detailed with dimensions. Starting from the top left and moving clockwise, dimensions are marked for various room sizes and furniture placement. Key dimensions indicated include 7844 for the total width, 3350 for bathroom width, and 2890 and 2150 for the main living space dimensions. Furniture such as beds, dining tables, couches, and sanitary fixtures are shown.\\n\\nThe floor plan is for a unit labeled \"CĂN HỘ 22.19\" within a building called \"THE VIEW,\" as indicated in the table. The plan shows the layout of the main living area (\"PHÒNG KHÁCH\"), bathroom, and other rooms, with labeled dimensions for each. Overall, the image provides a comprehensive and technical view of the floor plan.')], role='model'), citation_metadata=None, finish_message=None, token_count=None, finish_reason=<FinishReason.STOP: 'STOP'>, avg_logprobs=-0.4806902890555121, grounding_metadata=None, index=None, logprobs_result=None, safety_ratings=None)] create_time=None response_id=None model_version='gemini-2.0-flash-exp' prompt_feedback=None usage_metadata=GenerateContentResponseUsageMetadata(cache_tokens_details=None, cached_content_token_count=None, candidates_token_count=559, candidates_tokens_details=[ModalityTokenCount(modality=<MediaModality.TEXT: 'TEXT'>, token_count=559)], prompt_token_count=1812, prompt_tokens_details=[ModalityTokenCount(modality=<MediaModality.IMAGE: 'IMAGE'>, token_count=1806), ModalityTokenCount(modality=<MediaModality.TEXT: 'TEXT'>, token_count=6)], thoughts_token_count=None, tool_use_prompt_token_count=None, tool_use_prompt_tokens_details=None, total_token_count=2371, traffic_type=None) automatic_function_calling_history=[] parsed=None\n"
     ]
    }
   ],
   "source": [
    "from typing import cast\n",
    "from langchain_core.runnables import RunnableConfig\n",
    "from langchain_core.messages import ToolMessage, AIMessage\n",
    "from state import AgentState, Products\n",
    "import base64\n",
    "from google import genai\n",
    "from google.genai import types\n",
    "import requests\n",
    "import os\n",
    "from dotenv import load_dotenv\n",
    "\n",
    "load_dotenv()\n",
    "\n",
    "client = genai.Client(api_key=os.getenv(\"GOOGLE_API_KEY\"))\n",
    "def encode_image(url:str):\n",
    "    try:\n",
    "        image_bytes = requests.get(url).content\n",
    "        image = types.Part.from_bytes(\n",
    "            data=image_bytes, mime_type=\"image/jpeg\"\n",
    "        )\n",
    "        return image\n",
    "    except Exception as e:\n",
    "        print(f\"Error loading image: {e}\")\n",
    "        return None\n",
    "    \n",
    "def process_image_node(url):\n",
    "    image = encode_image(url)\n",
    "    response = client.models.generate_content(\n",
    "        model=\"gemini-2.0-flash-exp\",\n",
    "        contents=[\"Descripe this image in detail\", image],\n",
    "    )   \n",
    "    print(f\"response: {response}\")\n",
    "    ai_response = AIMessage(content=response.text)\n",
    "   \n",
    "    return response\n",
    "\n",
    "a =process_image_node(url)\n",
    "\n",
    "\n",
    "\n",
    "    \n",
    "\n",
    "    \n",
    "    \n"
   ]
  },
  {
   "cell_type": "code",
   "execution_count": 7,
   "metadata": {},
   "outputs": [
    {
     "name": "stdout",
     "output_type": "stream",
     "text": [
      "Here is a detailed description of the image:\n",
      "\n",
      "The image is a black-and-white architectural floor plan contained within a rectangular, dashed border. The title at the top reads \"MẶT BẰNG BỘ TRÍ NỘI THẤT,\" which translates to \"Furniture Layout Plan.\" The plan shows the layout of an apartment or a similar residential unit.\n",
      "\n",
      "On the right side of the floor plan, there is a table containing the following information:\n",
      "\n",
      "*   \"HO SO\" (File)\n",
      "*   \"HỒ SƠ THIẾT KE THI CÔNG\" (Construction Design File)\n",
      "*   \"CHỦ ĐẦU TƯ\" (Investor): \"KIM THÀNH\"\n",
      "*   \"CÔNG TRÌNH - ĐỊA ĐIỂM\" (Project - Location): \"THE VIEW\"\n",
      "*   \"CĂN HỘ\" (Apartment): \"22.19\"\n",
      "*   \"LƯU Y\" (Note)\n",
      "*   \"TƯ VẤN THIET KE\" (Design Consultant) is followed by a logo labeled \"ON HOME asia.\"\n",
      "*   \"BẢN VỀ\" (Map)\n",
      "*   \"TÊN BẢN VỀ\" (Map name): \"PHÒNG KHÁCH\" (Living room).\n",
      "\n",
      "Additional details in the table:\n",
      "\n",
      "*   \"THIẾT KẾ\" (Design): \"VÕ THỊ HÀNH HÒA\"\n",
      "*   \"THỂ HIỆN\" (Presenting): \"HỌ QUỐC DƯƠNG\"\n",
      "*   \"KIỂM TRA\" (Check): \"NGUYEN WAN MANH\"\n",
      "*   \"DUYET\" (Approve): \"NGUYEN VAN MANH\"\n",
      "*   \"NGÀY PHÁT HÀNH\" (Release Date): \"8/2020\"\n",
      "\n",
      "The floor plan itself is meticulously detailed with dimensions. Starting from the top left and moving clockwise, dimensions are marked for various room sizes and furniture placement. Key dimensions indicated include 7844 for the total width, 3350 for bathroom width, and 2890 and 2150 for the main living space dimensions. Furniture such as beds, dining tables, couches, and sanitary fixtures are shown.\n",
      "\n",
      "The floor plan is for a unit labeled \"CĂN HỘ 22.19\" within a building called \"THE VIEW,\" as indicated in the table. The plan shows the layout of the main living area (\"PHÒNG KHÁCH\"), bathroom, and other rooms, with labeled dimensions for each. Overall, the image provides a comprehensive and technical view of the floor plan.\n"
     ]
    }
   ],
   "source": [
    "print(a.text)"
   ]
  }
 ],
 "metadata": {
  "kernelspec": {
   "display_name": "myenv",
   "language": "python",
   "name": "python3"
  },
  "language_info": {
   "codemirror_mode": {
    "name": "ipython",
    "version": 3
   },
   "file_extension": ".py",
   "mimetype": "text/x-python",
   "name": "python",
   "nbconvert_exporter": "python",
   "pygments_lexer": "ipython3",
   "version": "3.12.10"
  }
 },
 "nbformat": 4,
 "nbformat_minor": 2
}
